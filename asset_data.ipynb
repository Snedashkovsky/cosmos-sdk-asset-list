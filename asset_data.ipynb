{
 "cells": [
  {
   "cell_type": "markdown",
   "source": [
    "# Asset Data\n",
    "### TODO\n",
    "- create ipfs address of data folder\n",
    "- create contract code, initiate contracts in 3 networks and upload data to these contracts"
   ],
   "metadata": {
    "collapsed": false
   }
  },
  {
   "cell_type": "code",
   "execution_count": 1,
   "outputs": [],
   "source": [
    "import json\n",
    "import os\n",
    "import ast\n",
    "import pandas as pd\n",
    "from warnings import filterwarnings\n",
    "from tqdm.notebook import tqdm\n",
    "from jsonschema import validate\n",
    "\n",
    "from src.lcd_extractor import extract_assets\n",
    "from src.chain_registry_extractor import get_chain_names_and_lcd_dicts\n",
    "from src.json_export import get_asset_json_dict\n",
    "\n",
    "filterwarnings('ignore')\n",
    "tqdm.pandas()\n",
    "\n",
    "EXTRACT_DATA = False"
   ],
   "metadata": {
    "collapsed": false,
    "ExecuteTime": {
     "end_time": "2023-06-12T05:46:14.664838Z",
     "start_time": "2023-06-12T05:46:14.391041Z"
    }
   }
  },
  {
   "cell_type": "markdown",
   "source": [
    "### Get chain names and lcd dict from chain-registry repo"
   ],
   "metadata": {
    "collapsed": false
   }
  },
  {
   "cell_type": "code",
   "execution_count": 2,
   "outputs": [
    {
     "name": "stdout",
     "output_type": "stream",
     "text": [
      "no lcd api for microtick\n"
     ]
    }
   ],
   "source": [
    "chain_id_name_dict, chain_id_lcd_dict, _ = get_chain_names_and_lcd_dicts()"
   ],
   "metadata": {
    "collapsed": false,
    "ExecuteTime": {
     "end_time": "2023-06-12T05:46:14.674808Z",
     "start_time": "2023-06-12T05:46:14.665892Z"
    }
   }
  },
  {
   "cell_type": "markdown",
   "source": [
    "### Get asset data from nodes"
   ],
   "metadata": {
    "collapsed": false
   }
  },
  {
   "cell_type": "code",
   "execution_count": 3,
   "outputs": [],
   "source": [
    "assets_df = pd.DataFrame(columns=['denom', 'supply', 'denom_base', 'path', 'channels', 'one_channel',\n",
    "                                  'chain_id_counterparty', 'channel_id_counterparty', 'type_asset',\n",
    "                                  'type_asset_base', 'chain_id'])\n",
    "if EXTRACT_DATA:\n",
    "    for chain_id, node_lcd_url_list in list(chain_id_lcd_dict.items()):\n",
    "        print(chain_id)\n",
    "        asset_df = extract_assets(chain_id, node_lcd_url_list)\n",
    "        if asset_df is None:\n",
    "            print(f'data has not been loaded for {chain_id}, lcd apis not work')\n",
    "            continue\n",
    "        asset_df.to_csv(f'data_csv/assets_{chain_id}.csv')\n",
    "        assets_df = pd.concat([assets_df, asset_df])\n",
    "else:\n",
    "    asset_raw_file_names = [f.path for f in os.scandir('data_csv')\n",
    "                            if not f.is_dir() if\n",
    "                            f.path.split('/')[1][0] not in ('_', '.') and f.path.split('/')[1] != 'all_assets.csv']\n",
    "    for asset_raw_file_name in asset_raw_file_names:\n",
    "        asset_df = pd.read_csv(asset_raw_file_name)\n",
    "        asset_df = asset_df.drop_duplicates()\n",
    "        if 'channels' in asset_df.columns:\n",
    "            asset_df['channels'] = asset_df.channels.map(lambda x: ast.literal_eval(x) if type(x) == str else None)\n",
    "        if 'denom_units' in asset_df.columns:\n",
    "            asset_df['denom_units'] = asset_df.denom_units.map(\n",
    "                lambda x: ast.literal_eval(x) if type(x) == str else None)\n",
    "        assets_df = pd.concat([assets_df, asset_df])"
   ],
   "metadata": {
    "collapsed": false,
    "ExecuteTime": {
     "end_time": "2023-06-12T05:46:15.094574Z",
     "start_time": "2023-06-12T05:46:14.678805Z"
    }
   }
  },
  {
   "cell_type": "code",
   "execution_count": 4,
   "outputs": [
    {
     "data": {
      "text/plain": "             chain_id                                              denom  \\\n0       loyal-main-02  ibc/0471F1C4E7AFD3F07702BEF6DC365268D64570F7C1...   \n1       loyal-main-02  ibc/C0E66D1C81D8AAF0E6896E05190FDFBC222367148F...   \n2      dimension_37-1  ibc/2CC0B1B7A981ACC74854717F221008484603BB8360...   \n3      dimension_37-1  ibc/6771714762A6F8F541DE7C461F09C68F310621315F...   \n4      dimension_37-1  ibc/8E27BA2D5493AF5636760E354E46004562C46AB7EC...   \n...               ...                                                ...   \n10592   sentinelhub-2  ibc/7964F196E3F96B15675F6A6FBF1878B16B30FBB46F...   \n10593   sentinelhub-2  ibc/98FF2F49F25A44E724DB3E4E7521F7899449D2211C...   \n10594   sentinelhub-2  ibc/C6FB13D55E3A02DD6EC4348DE32124138812FDAE0E...   \n10595   sentinelhub-2  ibc/CFC3F79D1E0CBBAF2C63A14C97434AFC532F5194C7...   \n10596   sentinelhub-2                                              udvpn   \n\n      type_asset             supply  \\\n0          ics20             100000   \n1          ics20            1000000   \n2          ics20             600098   \n3          ics20  93300000000000000   \n4          ics20       272785050189   \n...          ...                ...   \n10592      ics20           40000000   \n10593      ics20             100000   \n10594      ics20            1000000   \n10595      ics20         1647596895   \n10596   sdk.coin  23801695456708403   \n\n                                         description  \\\n0                                                      \n1                                                      \n2                                                      \n3                                                      \n4                                                      \n...                                              ...   \n10592                                                  \n10593                                                  \n10594                                                  \n10595                                                  \n10596  The native staking token of the Sentinel Hub.   \n\n                                             denom_units display name symbol  \\\n0                                                                              \n1                                                                              \n2                                                                              \n3                                                                              \n4                                                                              \n...                                                  ...     ...  ...    ...   \n10592                                                                          \n10593                                                                          \n10594                                                                          \n10595                                                                          \n10596  [{'denom': 'dvpn', 'exponent': 6, 'aliases': [...    dvpn               \n\n       uri denom_base type_asset_base  \\\n0      NaN      uosmo        sdk.coin   \n1      NaN       uaxl        sdk.coin   \n2      NaN       uaxl        sdk.coin   \n3      NaN  wavax-wei        sdk.coin   \n4      NaN      uusdc        sdk.coin   \n...    ...        ...             ...   \n10592  NaN      udvpn        sdk.coin   \n10593  NaN      udvpn        sdk.coin   \n10594  NaN      udvpn        sdk.coin   \n10595  NaN      udvpn        sdk.coin   \n10596  NaN      udvpn        sdk.coin   \n\n                                                    path  \\\n0                                     transfer/channel-1   \n1                                     transfer/channel-2   \n2                                     transfer/channel-0   \n3                                     transfer/channel-0   \n4                                     transfer/channel-0   \n...                                                  ...   \n10592             transfer/channel-14/transfer/channel-2   \n10593             transfer/channel-69/transfer/channel-1   \n10594             transfer/channel-63/transfer/channel-1   \n10595  transfer/channel-12/transfer/channel-141/trans...   \n10596                                                NaN   \n\n                                   channels    chain_id_counterparty  \\\n0                               [channel-1]              osmo-test-4   \n1                               [channel-2]  axelar-testnet-lisbon-3   \n2                               [channel-0]            axelar-dojo-1   \n3                               [channel-0]            axelar-dojo-1   \n4                               [channel-0]            axelar-dojo-1   \n...                                     ...                      ...   \n10592               [channel-14, channel-2]                osmosis-1   \n10593               [channel-69, channel-1]               sifchain-1   \n10594               [channel-63, channel-1]               sifchain-1   \n10595  [channel-12, channel-141, channel-2]              cosmoshub-4   \n10596                                  None                      NaN   \n\n      channel_id_counterparty              supply_base  chain_id_base  \\\n0                channel-2463                      NaN            NaN   \n1                 channel-165                      NaN            NaN   \n2                  channel-49         1066932465248493  axelar-dojo-1   \n3                  channel-49  10927697941851456549554  axelar-dojo-1   \n4                  channel-49           46015284903012  axelar-dojo-1   \n...                       ...                      ...            ...   \n10592              channel-21                     None           None   \n10593              channel-88                     None           None   \n10594              channel-83                     None           None   \n10595             channel-186                     None           None   \n10596                     NaN                     None           None   \n\n      one_channel  \n0            True  \n1            True  \n2            True  \n3            True  \n4            True  \n...           ...  \n10592       False  \n10593       False  \n10594       False  \n10595       False  \n10596         NaN  \n\n[10597 rows x 19 columns]",
      "text/html": "<div>\n<style scoped>\n    .dataframe tbody tr th:only-of-type {\n        vertical-align: middle;\n    }\n\n    .dataframe tbody tr th {\n        vertical-align: top;\n    }\n\n    .dataframe thead th {\n        text-align: right;\n    }\n</style>\n<table border=\"1\" class=\"dataframe\">\n  <thead>\n    <tr style=\"text-align: right;\">\n      <th></th>\n      <th>chain_id</th>\n      <th>denom</th>\n      <th>type_asset</th>\n      <th>supply</th>\n      <th>description</th>\n      <th>denom_units</th>\n      <th>display</th>\n      <th>name</th>\n      <th>symbol</th>\n      <th>uri</th>\n      <th>denom_base</th>\n      <th>type_asset_base</th>\n      <th>path</th>\n      <th>channels</th>\n      <th>chain_id_counterparty</th>\n      <th>channel_id_counterparty</th>\n      <th>supply_base</th>\n      <th>chain_id_base</th>\n      <th>one_channel</th>\n    </tr>\n  </thead>\n  <tbody>\n    <tr>\n      <th>0</th>\n      <td>loyal-main-02</td>\n      <td>ibc/0471F1C4E7AFD3F07702BEF6DC365268D64570F7C1...</td>\n      <td>ics20</td>\n      <td>100000</td>\n      <td></td>\n      <td></td>\n      <td></td>\n      <td></td>\n      <td></td>\n      <td>NaN</td>\n      <td>uosmo</td>\n      <td>sdk.coin</td>\n      <td>transfer/channel-1</td>\n      <td>[channel-1]</td>\n      <td>osmo-test-4</td>\n      <td>channel-2463</td>\n      <td>NaN</td>\n      <td>NaN</td>\n      <td>True</td>\n    </tr>\n    <tr>\n      <th>1</th>\n      <td>loyal-main-02</td>\n      <td>ibc/C0E66D1C81D8AAF0E6896E05190FDFBC222367148F...</td>\n      <td>ics20</td>\n      <td>1000000</td>\n      <td></td>\n      <td></td>\n      <td></td>\n      <td></td>\n      <td></td>\n      <td>NaN</td>\n      <td>uaxl</td>\n      <td>sdk.coin</td>\n      <td>transfer/channel-2</td>\n      <td>[channel-2]</td>\n      <td>axelar-testnet-lisbon-3</td>\n      <td>channel-165</td>\n      <td>NaN</td>\n      <td>NaN</td>\n      <td>True</td>\n    </tr>\n    <tr>\n      <th>2</th>\n      <td>dimension_37-1</td>\n      <td>ibc/2CC0B1B7A981ACC74854717F221008484603BB8360...</td>\n      <td>ics20</td>\n      <td>600098</td>\n      <td></td>\n      <td></td>\n      <td></td>\n      <td></td>\n      <td></td>\n      <td>NaN</td>\n      <td>uaxl</td>\n      <td>sdk.coin</td>\n      <td>transfer/channel-0</td>\n      <td>[channel-0]</td>\n      <td>axelar-dojo-1</td>\n      <td>channel-49</td>\n      <td>1066932465248493</td>\n      <td>axelar-dojo-1</td>\n      <td>True</td>\n    </tr>\n    <tr>\n      <th>3</th>\n      <td>dimension_37-1</td>\n      <td>ibc/6771714762A6F8F541DE7C461F09C68F310621315F...</td>\n      <td>ics20</td>\n      <td>93300000000000000</td>\n      <td></td>\n      <td></td>\n      <td></td>\n      <td></td>\n      <td></td>\n      <td>NaN</td>\n      <td>wavax-wei</td>\n      <td>sdk.coin</td>\n      <td>transfer/channel-0</td>\n      <td>[channel-0]</td>\n      <td>axelar-dojo-1</td>\n      <td>channel-49</td>\n      <td>10927697941851456549554</td>\n      <td>axelar-dojo-1</td>\n      <td>True</td>\n    </tr>\n    <tr>\n      <th>4</th>\n      <td>dimension_37-1</td>\n      <td>ibc/8E27BA2D5493AF5636760E354E46004562C46AB7EC...</td>\n      <td>ics20</td>\n      <td>272785050189</td>\n      <td></td>\n      <td></td>\n      <td></td>\n      <td></td>\n      <td></td>\n      <td>NaN</td>\n      <td>uusdc</td>\n      <td>sdk.coin</td>\n      <td>transfer/channel-0</td>\n      <td>[channel-0]</td>\n      <td>axelar-dojo-1</td>\n      <td>channel-49</td>\n      <td>46015284903012</td>\n      <td>axelar-dojo-1</td>\n      <td>True</td>\n    </tr>\n    <tr>\n      <th>...</th>\n      <td>...</td>\n      <td>...</td>\n      <td>...</td>\n      <td>...</td>\n      <td>...</td>\n      <td>...</td>\n      <td>...</td>\n      <td>...</td>\n      <td>...</td>\n      <td>...</td>\n      <td>...</td>\n      <td>...</td>\n      <td>...</td>\n      <td>...</td>\n      <td>...</td>\n      <td>...</td>\n      <td>...</td>\n      <td>...</td>\n      <td>...</td>\n    </tr>\n    <tr>\n      <th>10592</th>\n      <td>sentinelhub-2</td>\n      <td>ibc/7964F196E3F96B15675F6A6FBF1878B16B30FBB46F...</td>\n      <td>ics20</td>\n      <td>40000000</td>\n      <td></td>\n      <td></td>\n      <td></td>\n      <td></td>\n      <td></td>\n      <td>NaN</td>\n      <td>udvpn</td>\n      <td>sdk.coin</td>\n      <td>transfer/channel-14/transfer/channel-2</td>\n      <td>[channel-14, channel-2]</td>\n      <td>osmosis-1</td>\n      <td>channel-21</td>\n      <td>None</td>\n      <td>None</td>\n      <td>False</td>\n    </tr>\n    <tr>\n      <th>10593</th>\n      <td>sentinelhub-2</td>\n      <td>ibc/98FF2F49F25A44E724DB3E4E7521F7899449D2211C...</td>\n      <td>ics20</td>\n      <td>100000</td>\n      <td></td>\n      <td></td>\n      <td></td>\n      <td></td>\n      <td></td>\n      <td>NaN</td>\n      <td>udvpn</td>\n      <td>sdk.coin</td>\n      <td>transfer/channel-69/transfer/channel-1</td>\n      <td>[channel-69, channel-1]</td>\n      <td>sifchain-1</td>\n      <td>channel-88</td>\n      <td>None</td>\n      <td>None</td>\n      <td>False</td>\n    </tr>\n    <tr>\n      <th>10594</th>\n      <td>sentinelhub-2</td>\n      <td>ibc/C6FB13D55E3A02DD6EC4348DE32124138812FDAE0E...</td>\n      <td>ics20</td>\n      <td>1000000</td>\n      <td></td>\n      <td></td>\n      <td></td>\n      <td></td>\n      <td></td>\n      <td>NaN</td>\n      <td>udvpn</td>\n      <td>sdk.coin</td>\n      <td>transfer/channel-63/transfer/channel-1</td>\n      <td>[channel-63, channel-1]</td>\n      <td>sifchain-1</td>\n      <td>channel-83</td>\n      <td>None</td>\n      <td>None</td>\n      <td>False</td>\n    </tr>\n    <tr>\n      <th>10595</th>\n      <td>sentinelhub-2</td>\n      <td>ibc/CFC3F79D1E0CBBAF2C63A14C97434AFC532F5194C7...</td>\n      <td>ics20</td>\n      <td>1647596895</td>\n      <td></td>\n      <td></td>\n      <td></td>\n      <td></td>\n      <td></td>\n      <td>NaN</td>\n      <td>udvpn</td>\n      <td>sdk.coin</td>\n      <td>transfer/channel-12/transfer/channel-141/trans...</td>\n      <td>[channel-12, channel-141, channel-2]</td>\n      <td>cosmoshub-4</td>\n      <td>channel-186</td>\n      <td>None</td>\n      <td>None</td>\n      <td>False</td>\n    </tr>\n    <tr>\n      <th>10596</th>\n      <td>sentinelhub-2</td>\n      <td>udvpn</td>\n      <td>sdk.coin</td>\n      <td>23801695456708403</td>\n      <td>The native staking token of the Sentinel Hub.</td>\n      <td>[{'denom': 'dvpn', 'exponent': 6, 'aliases': [...</td>\n      <td>dvpn</td>\n      <td></td>\n      <td></td>\n      <td>NaN</td>\n      <td>udvpn</td>\n      <td>sdk.coin</td>\n      <td>NaN</td>\n      <td>None</td>\n      <td>NaN</td>\n      <td>NaN</td>\n      <td>None</td>\n      <td>None</td>\n      <td>NaN</td>\n    </tr>\n  </tbody>\n</table>\n<p>10597 rows × 19 columns</p>\n</div>"
     },
     "execution_count": 4,
     "metadata": {},
     "output_type": "execute_result"
    }
   ],
   "source": [
    "assets_one_channel_df = \\\n",
    "    assets_df[assets_df.one_channel == True][['denom', 'supply', 'chain_id', 'denom_base', 'path', 'channels',\n",
    "                                              'chain_id_counterparty', 'channel_id_counterparty', 'type_asset',\n",
    "                                              'one_channel', 'type_asset_base']].merge(\n",
    "        assets_df[['denom', 'supply', 'chain_id', 'description', 'denom_units', 'display', 'name', 'symbol']].rename(\n",
    "            columns={'supply': 'supply_base', 'chain_id': 'chain_id_base', 'denom': 'denom_base'}),\n",
    "        how='left',\n",
    "        left_on=['chain_id_counterparty', 'denom_base'],\n",
    "        right_on=['chain_id_base', 'denom_base']\n",
    "    )\n",
    "assets_not_one_channel_df = assets_df[assets_df.one_channel != True]\n",
    "assets_not_one_channel_df['supply_base'] = assets_not_one_channel_df.apply(\n",
    "    lambda _row: _row['supply'] if _row['one_channel'] is None else None, axis=1)\n",
    "assets_not_one_channel_df['chain_id_base'] = assets_not_one_channel_df.apply(\n",
    "    lambda _row: _row['chain_id'] if _row['one_channel'] == True else None, axis=1)\n",
    "\n",
    "assets_df = pd.concat([\n",
    "    assets_one_channel_df,\n",
    "    assets_not_one_channel_df]).reset_index(drop=True)[[\n",
    "        'chain_id', 'denom', 'type_asset', 'supply', 'description', 'denom_units', 'display', 'name', 'symbol', 'uri',\n",
    "        'denom_base', 'type_asset_base', 'path', 'channels', 'chain_id_counterparty', 'channel_id_counterparty',\n",
    "        'supply_base', 'chain_id_base', 'one_channel']]\n",
    "\n",
    "assets_df = assets_df.fillna(value={'description': '', 'denom_units': '', 'display': '', 'name': '', 'symbol': ''})\n",
    "assets_df.to_csv('data_csv/all_assets.csv')\n",
    "assets_df"
   ],
   "metadata": {
    "collapsed": false,
    "ExecuteTime": {
     "end_time": "2023-06-12T05:46:15.240478Z",
     "start_time": "2023-06-12T05:46:15.097497Z"
    }
   }
  },
  {
   "cell_type": "markdown",
   "source": [
    "### Get assetlists"
   ],
   "metadata": {
    "collapsed": false
   }
  },
  {
   "cell_type": "code",
   "execution_count": 5,
   "outputs": [],
   "source": [
    "assets_json = get_asset_json_dict(assets_df=assets_df, chain_id_name_dict=chain_id_name_dict)"
   ],
   "metadata": {
    "collapsed": false,
    "ExecuteTime": {
     "end_time": "2023-06-12T05:46:15.685538Z",
     "start_time": "2023-06-12T05:46:15.242479Z"
    }
   }
  },
  {
   "cell_type": "code",
   "execution_count": 6,
   "outputs": [
    {
     "name": "stdout",
     "output_type": "stream",
     "text": [
      "Chains in chain-registry: 118\n",
      "Chain indexed: 107\n"
     ]
    }
   ],
   "source": [
    "print(f'Chains in chain-registry: {len(chain_id_name_dict.keys())}\\nChain indexed: {len(assets_json.keys())}')"
   ],
   "metadata": {
    "collapsed": false,
    "ExecuteTime": {
     "end_time": "2023-06-12T05:46:15.688332Z",
     "start_time": "2023-06-12T05:46:15.686172Z"
    }
   }
  },
  {
   "cell_type": "markdown",
   "source": [
    "### Validate assetlists"
   ],
   "metadata": {
    "collapsed": false
   }
  },
  {
   "cell_type": "code",
   "execution_count": 7,
   "outputs": [],
   "source": [
    "with open('assetlist.schema.json', 'r') as asset_list_schema_file:\n",
    "    assetlist_schema_json = json.load(asset_list_schema_file)\n",
    "for chain_id in assets_json.keys():\n",
    "    validate(instance=assets_json[chain_id], schema=assetlist_schema_json)"
   ],
   "metadata": {
    "collapsed": false,
    "ExecuteTime": {
     "end_time": "2023-06-12T05:46:17.680361Z",
     "start_time": "2023-06-12T05:46:15.690054Z"
    }
   }
  },
  {
   "cell_type": "markdown",
   "source": [
    "### Write assetlists"
   ],
   "metadata": {
    "collapsed": false
   }
  },
  {
   "cell_type": "code",
   "execution_count": 8,
   "outputs": [
    {
     "name": "stdout",
     "output_type": "stream",
     "text": [
      "FUND-MainNet-2\n",
      "[Errno 17] File exists: 'data_json/unification'\n",
      "LumenX\n",
      "[Errno 17] File exists: 'data_json/lumenx'\n",
      "Oraichain\n",
      "[Errno 17] File exists: 'data_json/oraichain'\n",
      "ShareRing-VoyagerNet\n",
      "[Errno 17] File exists: 'data_json/shareledger'\n",
      "acre_9052-1\n",
      "[Errno 17] File exists: 'data_json/acrechain'\n",
      "agoric-3\n",
      "[Errno 17] File exists: 'data_json/agoric'\n",
      "aioz_168-1\n",
      "[Errno 17] File exists: 'data_json/aioz'\n",
      "akashnet-2\n",
      "[Errno 17] File exists: 'data_json/akash'\n",
      "arkh\n",
      "[Errno 17] File exists: 'data_json/arkh'\n",
      "axelar-dojo-1\n",
      "[Errno 17] File exists: 'data_json/axelar'\n",
      "beezee-1\n",
      "[Errno 17] File exists: 'data_json/beezee'\n",
      "bitcanna-1\n",
      "[Errno 17] File exists: 'data_json/bitcanna'\n",
      "bitsong-2b\n",
      "[Errno 17] File exists: 'data_json/bitsong'\n",
      "bluzelle-9\n",
      "[Errno 17] File exists: 'data_json/bluzelle'\n",
      "bostrom\n",
      "[Errno 17] File exists: 'data_json/bostrom'\n",
      "canto_7700-1\n",
      "[Errno 17] File exists: 'data_json/canto'\n",
      "carbon-1\n",
      "[Errno 17] File exists: 'data_json/carbon'\n",
      "cheqd-mainnet-1\n",
      "[Errno 17] File exists: 'data_json/cheqd'\n",
      "chihuahua-1\n",
      "[Errno 17] File exists: 'data_json/chihuahua'\n",
      "chimba\n",
      "[Errno 17] File exists: 'data_json/chimba'\n",
      "colosseum-1\n",
      "[Errno 17] File exists: 'data_json/firmachain'\n",
      "columbus-5\n",
      "[Errno 17] File exists: 'data_json/terra'\n",
      "comdex-1\n",
      "[Errno 17] File exists: 'data_json/comdex'\n",
      "commercio-3\n",
      "[Errno 17] File exists: 'data_json/commercionetwork'\n",
      "core-1\n",
      "[Errno 17] File exists: 'data_json/persistence'\n",
      "cosmoshub-4\n",
      "[Errno 17] File exists: 'data_json/cosmoshub'\n",
      "crescent-1\n",
      "[Errno 17] File exists: 'data_json/crescent'\n",
      "cronosmainnet_25-1\n",
      "[Errno 17] File exists: 'data_json/cronos'\n",
      "crypto-org-chain-mainnet-1\n",
      "[Errno 17] File exists: 'data_json/cryptoorgchain'\n",
      "cudos-1\n",
      "[Errno 17] File exists: 'data_json/cudos'\n",
      "darchub\n",
      "[Errno 17] File exists: 'data_json/konstellation'\n",
      "desmos-mainnet\n",
      "[Errno 17] File exists: 'data_json/desmos'\n",
      "dig-1\n",
      "[Errno 17] File exists: 'data_json/dig'\n",
      "dimension_37-1\n",
      "[Errno 17] File exists: 'data_json/xpla'\n",
      "dyson-mainnet-01\n",
      "[Errno 17] File exists: 'data_json/dyson'\n",
      "echelon_3000-3\n",
      "[Errno 17] File exists: 'data_json/echelon'\n",
      "eightball-1\n",
      "[Errno 17] File exists: 'data_json/8ball'\n",
      "ethos_7003-1\n",
      "[Errno 17] File exists: 'data_json/ethos'\n",
      "evmos_9001-2\n",
      "[Errno 17] File exists: 'data_json/evmos'\n",
      "fetchhub-4\n",
      "[Errno 17] File exists: 'data_json/fetchhub'\n",
      "genesis_29-2\n",
      "[Errno 17] File exists: 'data_json/genesisl1'\n",
      "gitopia\n",
      "[Errno 17] File exists: 'data_json/gitopia'\n",
      "gravity-bridge-3\n",
      "[Errno 17] File exists: 'data_json/gravitybridge'\n",
      "imversed_5555555-1\n",
      "[Errno 17] File exists: 'data_json/imversed'\n",
      "injective-1\n",
      "[Errno 17] File exists: 'data_json/injective'\n",
      "iov-mainnet-ibc\n",
      "[Errno 17] File exists: 'data_json/starname'\n",
      "irishub-1\n",
      "[Errno 17] File exists: 'data_json/irisnet'\n",
      "ixo-5\n",
      "[Errno 17] File exists: 'data_json/impacthub'\n",
      "jackal-1\n",
      "[Errno 17] File exists: 'data_json/jackal'\n",
      "juno-1\n",
      "[Errno 17] File exists: 'data_json/juno'\n",
      "kaiyo-1\n",
      "[Errno 17] File exists: 'data_json/kujira'\n",
      "kava_2222-10\n",
      "[Errno 17] File exists: 'data_json/kava'\n",
      "kichain-2\n",
      "[Errno 17] File exists: 'data_json/kichain'\n",
      "kyve-1\n",
      "[Errno 17] File exists: 'data_json/kyve'\n",
      "lambda_92000-1\n",
      "[Errno 17] File exists: 'data_json/lambda'\n",
      "laozi-mainnet\n",
      "[Errno 17] File exists: 'data_json/bandchain'\n",
      "likecoin-mainnet-2\n",
      "[Errno 17] File exists: 'data_json/likecoin'\n",
      "logos_7002-1\n",
      "[Errno 17] File exists: 'data_json/logos'\n",
      "loyal-main-02\n",
      "[Errno 17] File exists: 'data_json/loyal'\n",
      "lum-network-1\n",
      "[Errno 17] File exists: 'data_json/lumnetwork'\n",
      "mainnet-3\n",
      "[Errno 17] File exists: 'data_json/decentr'\n",
      "mantle-1\n",
      "[Errno 17] File exists: 'data_json/assetmantle'\n",
      "mars-1\n",
      "[Errno 17] File exists: 'data_json/mars'\n",
      "mayachain-mainnet-v1\n",
      "[Errno 17] File exists: 'data_json/mayachain'\n",
      "medasdigital-1\n",
      "[Errno 17] File exists: 'data_json/medasdigital'\n",
      "meme-1\n",
      "[Errno 17] File exists: 'data_json/meme'\n",
      "migaloo-1\n",
      "[Errno 17] File exists: 'data_json/migaloo'\n",
      "morocco-1\n",
      "[Errno 17] File exists: 'data_json/terpnetwork'\n",
      "mythos_7001-1\n",
      "[Errno 17] File exists: 'data_json/mythos'\n",
      "neutron-1\n",
      "[Errno 17] File exists: 'data_json/neutron'\n",
      "noble-1\n",
      "[Errno 17] File exists: 'data_json/noble'\n",
      "nois-1\n",
      "[Errno 17] File exists: 'data_json/nois'\n",
      "nyx\n",
      "[Errno 17] File exists: 'data_json/nyx'\n",
      "odin-mainnet-freya\n",
      "[Errno 17] File exists: 'data_json/odin'\n",
      "omniflixhub-1\n",
      "[Errno 17] File exists: 'data_json/omniflixhub'\n",
      "onomy-mainnet-1\n",
      "[Errno 17] File exists: 'data_json/onomy'\n",
      "osmosis-1\n",
      "[Errno 17] File exists: 'data_json/osmosis'\n",
      "panacea-3\n",
      "[Errno 17] File exists: 'data_json/panacea'\n",
      "passage-1\n",
      "[Errno 17] File exists: 'data_json/passage'\n",
      "perun-1\n",
      "[Errno 17] File exists: 'data_json/chain4energy'\n",
      "phoenix-1\n",
      "[Errno 17] File exists: 'data_json/terra2'\n",
      "pio-mainnet-1\n",
      "[Errno 17] File exists: 'data_json/provenance'\n",
      "pirin-1\n",
      "[Errno 17] File exists: 'data_json/nolus'\n",
      "planq_7070-2\n",
      "[Errno 17] File exists: 'data_json/planq'\n",
      "point_10687-1\n",
      "[Errno 17] File exists: 'data_json/point'\n",
      "quasar-1\n",
      "[Errno 17] File exists: 'data_json/quasar'\n",
      "quicksilver-2\n",
      "[Errno 17] File exists: 'data_json/quicksilver'\n",
      "realionetwork_3301-1\n",
      "[Errno 17] File exists: 'data_json/realio'\n",
      "reb_1111-1\n",
      "[Errno 17] File exists: 'data_json/rebus'\n",
      "regen-1\n",
      "[Errno 17] File exists: 'data_json/regen'\n",
      "secret-4\n",
      "[Errno 17] File exists: 'data_json/secretnetwork'\n",
      "sentinelhub-2\n",
      "[Errno 17] File exists: 'data_json/sentinel'\n",
      "shentu-2.2\n",
      "[Errno 17] File exists: 'data_json/shentu'\n",
      "sifchain-1\n",
      "[Errno 17] File exists: 'data_json/sifchain'\n",
      "sommelier-3\n",
      "[Errno 17] File exists: 'data_json/sommelier'\n",
      "space-pussy\n",
      "[Errno 17] File exists: 'data_json/space-pussy'\n",
      "stafihub-1\n",
      "[Errno 17] File exists: 'data_json/stafihub'\n",
      "stargaze-1\n",
      "[Errno 17] File exists: 'data_json/stargaze'\n",
      "stride-1\n",
      "[Errno 17] File exists: 'data_json/stride'\n",
      "tenet_1559-1\n",
      "[Errno 17] File exists: 'data_json/tenet'\n",
      "teritori-1\n",
      "[Errno 17] File exists: 'data_json/teritori'\n",
      "tgrade-mainnet-1\n",
      "[Errno 17] File exists: 'data_json/tgrade'\n",
      "titan-1\n",
      "[Errno 17] File exists: 'data_json/rizon'\n",
      "umee-1\n",
      "[Errno 17] File exists: 'data_json/umee'\n",
      "uptick_117-1\n",
      "[Errno 17] File exists: 'data_json/uptick'\n",
      "vidulum-1\n",
      "[Errno 17] File exists: 'data_json/vidulum'\n",
      "xstaxy-1\n",
      "[Errno 17] File exists: 'data_json/aura'\n"
     ]
    }
   ],
   "source": [
    "for chain_id in assets_json.keys():\n",
    "    print(chain_id)\n",
    "    try:\n",
    "        os.mkdir(path=f'data_json/{chain_id_name_dict[chain_id]}')\n",
    "    except Exception as e:\n",
    "        print(e)\n",
    "    with open(f'data_json/{chain_id_name_dict[chain_id]}/assetlist.json', 'w') as assetlist_file:\n",
    "        json.dump(obj=assets_json[chain_id], fp=assetlist_file, ensure_ascii=False, indent=4)\n",
    "with open(f'data_json/all_assets.json', 'w') as all_assets_file:\n",
    "    json.dump(obj=[assets_json[chain_id] for chain_id in assets_json.keys()],\n",
    "              fp=all_assets_file, ensure_ascii=False, indent=4)"
   ],
   "metadata": {
    "collapsed": false,
    "ExecuteTime": {
     "end_time": "2023-06-12T05:46:17.906319Z",
     "start_time": "2023-06-12T05:46:17.681367Z"
    }
   }
  },
  {
   "cell_type": "code",
   "execution_count": 8,
   "outputs": [],
   "source": [],
   "metadata": {
    "collapsed": false,
    "ExecuteTime": {
     "end_time": "2023-06-12T05:46:17.908475Z",
     "start_time": "2023-06-12T05:46:17.906543Z"
    }
   }
  }
 ],
 "metadata": {
  "kernelspec": {
   "display_name": "Python 3",
   "language": "python",
   "name": "python3"
  },
  "language_info": {
   "codemirror_mode": {
    "name": "ipython",
    "version": 2
   },
   "file_extension": ".py",
   "mimetype": "text/x-python",
   "name": "python",
   "nbconvert_exporter": "python",
   "pygments_lexer": "ipython2",
   "version": "2.7.6"
  }
 },
 "nbformat": 4,
 "nbformat_minor": 0
}
